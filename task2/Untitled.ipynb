{
 "cells": [
  {
   "cell_type": "code",
   "execution_count": 1,
   "metadata": {},
   "outputs": [],
   "source": [
    "import numpy as np\n",
    "import pandas as pd\n",
    "from sklearn.linear_model import LogisticRegression, LassoCV\n",
    "from sklearn.ensemble import RandomForestClassifier\n",
    "from sklearn.multioutput import MultiOutputClassifier\n",
    "from sklearn.svm import SVC\n",
    "from sklearn.preprocessing import StandardScaler\n",
    "from sklearn.model_selection import train_test_split\n",
    "\n",
    "VITALS = ['LABEL_RRate', 'LABEL_ABPm', 'LABEL_SpO2', 'LABEL_Heartrate']\n",
    "TESTS = ['LABEL_BaseExcess', 'LABEL_Fibrinogen', 'LABEL_AST', 'LABEL_Alkalinephos', 'LABEL_Bilirubin_total',\n",
    "         'LABEL_Lactate', 'LABEL_TroponinI', 'LABEL_SaO2',\n",
    "         'LABEL_Bilirubin_direct', 'LABEL_EtCO2']"
   ]
  },
  {
   "cell_type": "code",
   "execution_count": 8,
   "metadata": {},
   "outputs": [
    {
     "output_type": "execute_result",
     "data": {
      "text/plain": "Index(['pid', 'Time', 'Age', 'EtCO2', 'PTT', 'BUN', 'Lactate', 'Temp', 'Hgb',\n       'HCO3', 'BaseExcess', 'RRate', 'Fibrinogen', 'Phosphate', 'WBC',\n       'Creatinine', 'PaCO2', 'AST', 'FiO2', 'Platelets', 'SaO2', 'Glucose',\n       'ABPm', 'Magnesium', 'Potassium', 'ABPd', 'Calcium', 'Alkalinephos',\n       'SpO2', 'Bilirubin_direct', 'Chloride', 'Hct', 'Heartrate',\n       'Bilirubin_total', 'TroponinI', 'ABPs', 'pH'],\n      dtype='object')"
     },
     "metadata": {},
     "execution_count": 8
    }
   ],
   "source": [
    "train_features = pd.read_csv('train_features.csv')\n",
    "test_features = pd.read_csv('test_features.csv')\n",
    "\n",
    "train_labels = pd.read_csv('train_labels.csv').sort_values(by='pid')\n",
    "\n",
    "pids = test_features['pid'].drop_duplicates().sort_values().reset_index(drop=True)\n",
    "\n",
    "train_features.columns"
   ]
  },
  {
   "cell_type": "code",
   "execution_count": 3,
   "metadata": {},
   "outputs": [],
   "source": [
    "def feature_engineer(data):\n",
    "    data = (data.groupby('pid').mean()).fillna(data.median())\n",
    "    data = data.drop('Time', axis=1).sort_values(by='pid')\n",
    "\n",
    "    scaler = StandardScaler()\n",
    "    return scaler.fit_transform(data)\n",
    ""
   ]
  },
  {
   "cell_type": "code",
   "execution_count": 10,
   "metadata": {},
   "outputs": [
    {
     "output_type": "error",
     "ename": "TypeError",
     "evalue": "'numpy.int64' object is not callable",
     "traceback": [
      "\u001b[0;31m---------------------------------------------------------------------------\u001b[0m",
      "\u001b[0;31mTypeError\u001b[0m                                 Traceback (most recent call last)",
      "\u001b[0;32m<ipython-input-10-fb06f916d235>\u001b[0m in \u001b[0;36m<module>\u001b[0;34m\u001b[0m\n\u001b[1;32m      3\u001b[0m \u001b[0mX_submission\u001b[0m \u001b[0;34m=\u001b[0m \u001b[0mfeature_engineer\u001b[0m\u001b[0;34m(\u001b[0m\u001b[0mtest_features\u001b[0m\u001b[0;34m)\u001b[0m\u001b[0;34m\u001b[0m\u001b[0;34m\u001b[0m\u001b[0m\n\u001b[1;32m      4\u001b[0m \u001b[0;34m\u001b[0m\u001b[0m\n\u001b[0;32m----> 5\u001b[0;31m \u001b[0mtrain_features\u001b[0m\u001b[0;34m.\u001b[0m\u001b[0msize\u001b[0m\u001b[0;34m(\u001b[0m\u001b[0;36m0\u001b[0m\u001b[0;34m)\u001b[0m\u001b[0;34m\u001b[0m\u001b[0;34m\u001b[0m\u001b[0m\n\u001b[0m",
      "\u001b[0;31mTypeError\u001b[0m: 'numpy.int64' object is not callable"
     ]
    }
   ],
   "source": [
    "X = feature_engineer(train_features)\n",
    "\n",
    "X_submission = feature_engineer(test_features)"
   ]
  },
  {
   "cell_type": "code",
   "execution_count": 12,
   "metadata": {},
   "outputs": [
    {
     "output_type": "execute_result",
     "data": {
      "text/plain": "[0.8652395157045095,\n 0.9406913493595368,\n 0.7882084576241446,\n 0.7950517634672749,\n 0.7910159677136339,\n 0.8362870679066503,\n 0.9280575539568345,\n 0.8311984558694507,\n 0.9687664502544306,\n 0.9582382874188454,\n 0.943323390068433]"
     },
     "metadata": {},
     "execution_count": 12
    }
   ],
   "source": [
    "y = train_labels[TESTS]\n",
    "model = MultiOutputClassifier(SVC(kernel='linear', probability=True)).fit(X, y)\n",
    "\n",
    "y_pred = model.predict_proba(X)"
   ]
  },
  {
   "cell_type": "code",
   "execution_count": 7,
   "metadata": {},
   "outputs": [
    {
     "output_type": "execute_result",
     "data": {
      "text/plain": "[array([-1.03852868, -1.07151806, -0.55395272, ..., -1.13191134,\n        -1.09950827,  2.25331592]),\n array([-1.03660963, -0.99984996, -1.14804001, ..., -1.00035048,\n        -1.01085038, -1.0475097 ]),\n array([-1.07093593, -1.1006274 , -0.6147735 , ..., -0.95168275,\n        -0.94553485, -1.31751577]),\n array([-1.07393636, -1.08074635, -0.60056261, ..., -0.93485329,\n        -0.94020295, -1.31207019]),\n array([-1.06742096, -1.0857644 , -0.58036547, ..., -0.94757973,\n        -0.9380218 , -1.27911068]),\n array([-1.06920706, -1.14116867, -1.12920917, ..., -1.09375562,\n        -1.06374028,  0.91514772]),\n array([-1.03609388, -0.99976901, -1.00026155, ..., -0.93327067,\n        -0.99469113, -1.19544631]),\n array([-1.191059  , -1.11668952, -1.02692942, ..., -1.06006594,\n        -1.13923201, -0.2720695 ]),\n array([-1.05394391, -1.04471008, -0.77021658, ..., -1.00092157,\n        -1.00966428, -1.03875948]),\n array([-1.06078934, -1.02060016, -1.11117509, ..., -0.34566652,\n        -0.96675277, -1.23524144]),\n array([-1.0341893 , -1.04731522, -1.0620643 , ..., -1.01873005,\n        -1.00823274, -0.96657679])]"
     },
     "metadata": {},
     "execution_count": 7
    }
   ],
   "source": [
    "y_pred"
   ]
  },
  {
   "cell_type": "code",
   "execution_count": 48,
   "metadata": {},
   "outputs": [
    {
     "output_type": "execute_result",
     "data": {
      "text/plain": "    LABEL_BaseExcess  LABEL_Fibrinogen  LABEL_AST  LABEL_Alkalinephos  \\\n0           0.430861          0.526732   0.999519            0.999433   \n1           0.120834          0.055385   0.308823            0.309664   \n2           0.252097          0.047740   0.174448            0.171533   \n3           0.915501          0.536227   0.990402            0.989842   \n4           0.211334          0.027014   0.358793            0.357392   \n5           0.074344          0.021954   0.197548            0.194029   \n6           0.031490          0.052753   0.345306            0.339252   \n7           0.633419          0.156491   0.042263            0.039758   \n8           0.222891          0.050431   0.055883            0.051884   \n9           0.483607          0.030227   0.419012            0.416288   \n10          0.066346          0.123885   0.322926            0.319129   \n11          0.329654          0.067387   0.401130            0.401145   \n12          0.011479          0.049000   0.328338            0.321151   \n13          0.156557          0.023704   0.837411            0.841720   \n14          0.210590          0.051523   0.227355            0.226815   \n15          0.099202          0.053432   0.199958            0.200053   \n16          0.439466          0.052223   0.463741            0.444240   \n17          0.109995          0.065467   0.193513            0.191518   \n18          0.107303          0.061535   0.003190            0.002615   \n19          0.261816          0.028728   0.170613            0.163320   \n\n    LABEL_Bilirubin_total  LABEL_Lactate  LABEL_TroponinI  LABEL_SaO2  \\\n0                0.999490       0.477557         0.008800    0.281171   \n1                0.316681       0.132354         0.183899    0.196462   \n2                0.177333       0.157479         0.064857    0.209998   \n3                0.991532       0.517301         0.009557    0.900630   \n4                0.367929       0.130878         0.150482    0.164371   \n5                0.192804       0.069889         0.169441    0.091993   \n6                0.341091       0.348342         0.244687    0.442916   \n7                0.037145       0.375436         0.046826    0.725814   \n8                0.045562       0.157093         0.097805    0.220345   \n9                0.455640       0.138720         0.142036    0.182820   \n10               0.341085       0.249506         0.108130    0.205557   \n11               0.425942       0.175196         0.036604    0.169784   \n12               0.329381       0.235154         0.173508    0.315935   \n13               0.873975       0.097141         0.194301    0.141974   \n14               0.246781       0.123112         0.143337    0.151189   \n15               0.205558       0.107583         0.185610    0.142521   \n16               0.462047       0.489203         0.201014    0.593169   \n17               0.201059       0.101277         0.064981    0.085663   \n18               0.001800       0.096204         0.048284    0.083406   \n19               0.165442       0.124055         0.078126    0.190551   \n\n    LABEL_Bilirubin_direct  LABEL_EtCO2  LABEL_Sepsis  \n0                 0.127607     0.211423      0.134063  \n1                 0.029559     0.037826      0.030964  \n2                 0.023352     0.038265      0.051240  \n3                 0.150142     0.000014      0.051194  \n4                 0.024251     0.024981      0.080673  \n5                 0.018711     0.043749      0.031822  \n6                 0.058988     0.233205      0.059942  \n7                 0.025754     0.015169      0.046069  \n8                 0.021860     0.040236      0.047755  \n9                 0.033683     0.010799      0.153850  \n10                0.031574     0.132144      0.043577  \n11                0.021659     0.026097      0.063440  \n12                0.045631     0.106460      0.023692  \n13                0.027947     0.030484      0.051139  \n14                0.011027     0.084670      0.042413  \n15                0.021350     0.080796      0.025967  \n16                0.068243     0.019837      0.140261  \n17                0.023874     0.025801      0.036098  \n18                0.017791     0.025671      0.033198  \n19                0.014649     0.034217      0.039259  ",
      "text/html": "<div>\n<style scoped>\n    .dataframe tbody tr th:only-of-type {\n        vertical-align: middle;\n    }\n\n    .dataframe tbody tr th {\n        vertical-align: top;\n    }\n\n    .dataframe thead th {\n        text-align: right;\n    }\n</style>\n<table border=\"1\" class=\"dataframe\">\n  <thead>\n    <tr style=\"text-align: right;\">\n      <th></th>\n      <th>LABEL_BaseExcess</th>\n      <th>LABEL_Fibrinogen</th>\n      <th>LABEL_AST</th>\n      <th>LABEL_Alkalinephos</th>\n      <th>LABEL_Bilirubin_total</th>\n      <th>LABEL_Lactate</th>\n      <th>LABEL_TroponinI</th>\n      <th>LABEL_SaO2</th>\n      <th>LABEL_Bilirubin_direct</th>\n      <th>LABEL_EtCO2</th>\n      <th>LABEL_Sepsis</th>\n    </tr>\n  </thead>\n  <tbody>\n    <tr>\n      <th>0</th>\n      <td>0.430861</td>\n      <td>0.526732</td>\n      <td>0.999519</td>\n      <td>0.999433</td>\n      <td>0.999490</td>\n      <td>0.477557</td>\n      <td>0.008800</td>\n      <td>0.281171</td>\n      <td>0.127607</td>\n      <td>0.211423</td>\n      <td>0.134063</td>\n    </tr>\n    <tr>\n      <th>1</th>\n      <td>0.120834</td>\n      <td>0.055385</td>\n      <td>0.308823</td>\n      <td>0.309664</td>\n      <td>0.316681</td>\n      <td>0.132354</td>\n      <td>0.183899</td>\n      <td>0.196462</td>\n      <td>0.029559</td>\n      <td>0.037826</td>\n      <td>0.030964</td>\n    </tr>\n    <tr>\n      <th>2</th>\n      <td>0.252097</td>\n      <td>0.047740</td>\n      <td>0.174448</td>\n      <td>0.171533</td>\n      <td>0.177333</td>\n      <td>0.157479</td>\n      <td>0.064857</td>\n      <td>0.209998</td>\n      <td>0.023352</td>\n      <td>0.038265</td>\n      <td>0.051240</td>\n    </tr>\n    <tr>\n      <th>3</th>\n      <td>0.915501</td>\n      <td>0.536227</td>\n      <td>0.990402</td>\n      <td>0.989842</td>\n      <td>0.991532</td>\n      <td>0.517301</td>\n      <td>0.009557</td>\n      <td>0.900630</td>\n      <td>0.150142</td>\n      <td>0.000014</td>\n      <td>0.051194</td>\n    </tr>\n    <tr>\n      <th>4</th>\n      <td>0.211334</td>\n      <td>0.027014</td>\n      <td>0.358793</td>\n      <td>0.357392</td>\n      <td>0.367929</td>\n      <td>0.130878</td>\n      <td>0.150482</td>\n      <td>0.164371</td>\n      <td>0.024251</td>\n      <td>0.024981</td>\n      <td>0.080673</td>\n    </tr>\n    <tr>\n      <th>5</th>\n      <td>0.074344</td>\n      <td>0.021954</td>\n      <td>0.197548</td>\n      <td>0.194029</td>\n      <td>0.192804</td>\n      <td>0.069889</td>\n      <td>0.169441</td>\n      <td>0.091993</td>\n      <td>0.018711</td>\n      <td>0.043749</td>\n      <td>0.031822</td>\n    </tr>\n    <tr>\n      <th>6</th>\n      <td>0.031490</td>\n      <td>0.052753</td>\n      <td>0.345306</td>\n      <td>0.339252</td>\n      <td>0.341091</td>\n      <td>0.348342</td>\n      <td>0.244687</td>\n      <td>0.442916</td>\n      <td>0.058988</td>\n      <td>0.233205</td>\n      <td>0.059942</td>\n    </tr>\n    <tr>\n      <th>7</th>\n      <td>0.633419</td>\n      <td>0.156491</td>\n      <td>0.042263</td>\n      <td>0.039758</td>\n      <td>0.037145</td>\n      <td>0.375436</td>\n      <td>0.046826</td>\n      <td>0.725814</td>\n      <td>0.025754</td>\n      <td>0.015169</td>\n      <td>0.046069</td>\n    </tr>\n    <tr>\n      <th>8</th>\n      <td>0.222891</td>\n      <td>0.050431</td>\n      <td>0.055883</td>\n      <td>0.051884</td>\n      <td>0.045562</td>\n      <td>0.157093</td>\n      <td>0.097805</td>\n      <td>0.220345</td>\n      <td>0.021860</td>\n      <td>0.040236</td>\n      <td>0.047755</td>\n    </tr>\n    <tr>\n      <th>9</th>\n      <td>0.483607</td>\n      <td>0.030227</td>\n      <td>0.419012</td>\n      <td>0.416288</td>\n      <td>0.455640</td>\n      <td>0.138720</td>\n      <td>0.142036</td>\n      <td>0.182820</td>\n      <td>0.033683</td>\n      <td>0.010799</td>\n      <td>0.153850</td>\n    </tr>\n    <tr>\n      <th>10</th>\n      <td>0.066346</td>\n      <td>0.123885</td>\n      <td>0.322926</td>\n      <td>0.319129</td>\n      <td>0.341085</td>\n      <td>0.249506</td>\n      <td>0.108130</td>\n      <td>0.205557</td>\n      <td>0.031574</td>\n      <td>0.132144</td>\n      <td>0.043577</td>\n    </tr>\n    <tr>\n      <th>11</th>\n      <td>0.329654</td>\n      <td>0.067387</td>\n      <td>0.401130</td>\n      <td>0.401145</td>\n      <td>0.425942</td>\n      <td>0.175196</td>\n      <td>0.036604</td>\n      <td>0.169784</td>\n      <td>0.021659</td>\n      <td>0.026097</td>\n      <td>0.063440</td>\n    </tr>\n    <tr>\n      <th>12</th>\n      <td>0.011479</td>\n      <td>0.049000</td>\n      <td>0.328338</td>\n      <td>0.321151</td>\n      <td>0.329381</td>\n      <td>0.235154</td>\n      <td>0.173508</td>\n      <td>0.315935</td>\n      <td>0.045631</td>\n      <td>0.106460</td>\n      <td>0.023692</td>\n    </tr>\n    <tr>\n      <th>13</th>\n      <td>0.156557</td>\n      <td>0.023704</td>\n      <td>0.837411</td>\n      <td>0.841720</td>\n      <td>0.873975</td>\n      <td>0.097141</td>\n      <td>0.194301</td>\n      <td>0.141974</td>\n      <td>0.027947</td>\n      <td>0.030484</td>\n      <td>0.051139</td>\n    </tr>\n    <tr>\n      <th>14</th>\n      <td>0.210590</td>\n      <td>0.051523</td>\n      <td>0.227355</td>\n      <td>0.226815</td>\n      <td>0.246781</td>\n      <td>0.123112</td>\n      <td>0.143337</td>\n      <td>0.151189</td>\n      <td>0.011027</td>\n      <td>0.084670</td>\n      <td>0.042413</td>\n    </tr>\n    <tr>\n      <th>15</th>\n      <td>0.099202</td>\n      <td>0.053432</td>\n      <td>0.199958</td>\n      <td>0.200053</td>\n      <td>0.205558</td>\n      <td>0.107583</td>\n      <td>0.185610</td>\n      <td>0.142521</td>\n      <td>0.021350</td>\n      <td>0.080796</td>\n      <td>0.025967</td>\n    </tr>\n    <tr>\n      <th>16</th>\n      <td>0.439466</td>\n      <td>0.052223</td>\n      <td>0.463741</td>\n      <td>0.444240</td>\n      <td>0.462047</td>\n      <td>0.489203</td>\n      <td>0.201014</td>\n      <td>0.593169</td>\n      <td>0.068243</td>\n      <td>0.019837</td>\n      <td>0.140261</td>\n    </tr>\n    <tr>\n      <th>17</th>\n      <td>0.109995</td>\n      <td>0.065467</td>\n      <td>0.193513</td>\n      <td>0.191518</td>\n      <td>0.201059</td>\n      <td>0.101277</td>\n      <td>0.064981</td>\n      <td>0.085663</td>\n      <td>0.023874</td>\n      <td>0.025801</td>\n      <td>0.036098</td>\n    </tr>\n    <tr>\n      <th>18</th>\n      <td>0.107303</td>\n      <td>0.061535</td>\n      <td>0.003190</td>\n      <td>0.002615</td>\n      <td>0.001800</td>\n      <td>0.096204</td>\n      <td>0.048284</td>\n      <td>0.083406</td>\n      <td>0.017791</td>\n      <td>0.025671</td>\n      <td>0.033198</td>\n    </tr>\n    <tr>\n      <th>19</th>\n      <td>0.261816</td>\n      <td>0.028728</td>\n      <td>0.170613</td>\n      <td>0.163320</td>\n      <td>0.165442</td>\n      <td>0.124055</td>\n      <td>0.078126</td>\n      <td>0.190551</td>\n      <td>0.014649</td>\n      <td>0.034217</td>\n      <td>0.039259</td>\n    </tr>\n  </tbody>\n</table>\n</div>"
     },
     "metadata": {},
     "execution_count": 48
    }
   ],
   "source": [
    "labels_tests = pd.DataFrame(np.transpose(y_pred), columns=(TESTS + ['LABEL_Sepsis']))\n",
    "labels_tests.head(20)"
   ]
  },
  {
   "cell_type": "code",
   "execution_count": 49,
   "metadata": {},
   "outputs": [
    {
     "output_type": "execute_result",
     "data": {
      "text/plain": "[0.39493444559915114,\n 0.6010213826254593,\n 0.3619866585828676,\n 0.6120118970537956]"
     },
     "metadata": {},
     "execution_count": 49
    }
   ],
   "source": [
    "scores = []\n",
    "y_pred = []\n",
    "\n",
    "for vital in VITALS:\n",
    "    y = train_labels[vital]\n",
    "    X_train, X_test, y_train, y_test = train_test_split(X, y, test_size=0.3, random_state=42)\n",
    "\n",
    "    model = LassoCV(random_state=32).fit(X_train, y_train)\n",
    "    scores.append(model.score(X_test, y_test))\n",
    "    y_pred.append(model.predict(X_submission))\n",
    "\n",
    "scores"
   ]
  },
  {
   "cell_type": "code",
   "execution_count": 50,
   "metadata": {},
   "outputs": [
    {
     "output_type": "execute_result",
     "data": {
      "text/plain": "[array([14.76442732, 17.93430219, 18.78633528, ..., 18.01603238,\n        19.56639414, 18.13346382]),\n array([81.52201788, 85.73393602, 73.08058334, ..., 77.34402299,\n        94.08561361, 84.35816898]),\n array([98.79399897, 96.50970159, 95.85093817, ..., 98.25844989,\n        97.49659173, 98.6043507 ]),\n array([ 86.15570832,  96.80844278,  70.03263898, ...,  86.72350595,\n        118.35054716, 107.8817294 ])]"
     },
     "metadata": {},
     "execution_count": 50
    }
   ],
   "source": [
    "y_pred"
   ]
  },
  {
   "cell_type": "code",
   "execution_count": 51,
   "metadata": {},
   "outputs": [
    {
     "output_type": "execute_result",
     "data": {
      "text/plain": "   LABEL_RRate  LABEL_ABPm  LABEL_SpO2  LABEL_Heartrate\n0    14.764427   81.522018   98.793999        86.155708\n1    17.934302   85.733936   96.509702        96.808443\n2    18.786335   73.080583   95.850938        70.032639\n3    18.224721   85.094112   98.097519        93.821351\n4    19.669912   88.520382   96.345225        89.402206",
      "text/html": "<div>\n<style scoped>\n    .dataframe tbody tr th:only-of-type {\n        vertical-align: middle;\n    }\n\n    .dataframe tbody tr th {\n        vertical-align: top;\n    }\n\n    .dataframe thead th {\n        text-align: right;\n    }\n</style>\n<table border=\"1\" class=\"dataframe\">\n  <thead>\n    <tr style=\"text-align: right;\">\n      <th></th>\n      <th>LABEL_RRate</th>\n      <th>LABEL_ABPm</th>\n      <th>LABEL_SpO2</th>\n      <th>LABEL_Heartrate</th>\n    </tr>\n  </thead>\n  <tbody>\n    <tr>\n      <th>0</th>\n      <td>14.764427</td>\n      <td>81.522018</td>\n      <td>98.793999</td>\n      <td>86.155708</td>\n    </tr>\n    <tr>\n      <th>1</th>\n      <td>17.934302</td>\n      <td>85.733936</td>\n      <td>96.509702</td>\n      <td>96.808443</td>\n    </tr>\n    <tr>\n      <th>2</th>\n      <td>18.786335</td>\n      <td>73.080583</td>\n      <td>95.850938</td>\n      <td>70.032639</td>\n    </tr>\n    <tr>\n      <th>3</th>\n      <td>18.224721</td>\n      <td>85.094112</td>\n      <td>98.097519</td>\n      <td>93.821351</td>\n    </tr>\n    <tr>\n      <th>4</th>\n      <td>19.669912</td>\n      <td>88.520382</td>\n      <td>96.345225</td>\n      <td>89.402206</td>\n    </tr>\n  </tbody>\n</table>\n</div>"
     },
     "metadata": {},
     "execution_count": 51
    }
   ],
   "source": [
    "labels_vitals = pd.DataFrame(np.transpose(y_pred), columns=VITALS)\n",
    "labels_vitals.head()"
   ]
  },
  {
   "cell_type": "code",
   "execution_count": 52,
   "metadata": {},
   "outputs": [],
   "source": [
    "result = pd.concat([pids, labels_tests, labels_vitals], axis=1)"
   ]
  },
  {
   "cell_type": "code",
   "execution_count": 53,
   "metadata": {},
   "outputs": [],
   "source": [
    "result.to_csv('prediction.zip', index=False, float_format='%.3f', compression='zip')"
   ]
  },
  {
   "cell_type": "code",
   "execution_count": 55,
   "metadata": {},
   "outputs": [
    {
     "output_type": "execute_result",
     "data": {
      "text/plain": "         pid  LABEL_BaseExcess  LABEL_Fibrinogen  LABEL_AST  \\\n0          0             0.940             0.341      0.597   \n1      10001             0.773             0.320      0.451   \n2      10003             0.741             0.211      0.348   \n3      10004             0.147             0.312      0.733   \n4      10005             0.255             0.746      0.587   \n...      ...               ...               ...        ...   \n12659   9989             0.943             0.541      0.373   \n12660   9991             0.561             0.040      0.095   \n12661   9992             0.112             0.962      0.967   \n12662   9994             0.892             0.540      0.868   \n12663   9997             0.344             0.203      0.176   \n\n       LABEL_Alkalinephos  LABEL_Bilirubin_total  LABEL_Lactate  \\\n0                   0.651                  0.557          0.745   \n1                   0.152                  0.001          0.525   \n2                   0.153                  0.859          0.446   \n3                   0.129                  0.356          0.367   \n4                   0.743                  0.248          0.330   \n...                   ...                    ...            ...   \n12659               0.944                  0.562          0.594   \n12660               0.667                  0.918          0.323   \n12661               0.564                  0.064          0.545   \n12662               0.201                  0.259          0.632   \n12663               0.683                  0.603          0.053   \n\n       LABEL_TroponinI  LABEL_SaO2  LABEL_Bilirubin_direct  LABEL_EtCO2  \\\n0                0.224       0.363                   0.506        0.643   \n1                0.276       0.327                   0.316        0.656   \n2                0.406       0.607                   0.757        0.290   \n3                0.931       0.715                   0.434        0.005   \n4                0.071       0.291                   0.399        0.217   \n...                ...         ...                     ...          ...   \n12659            0.838       0.938                   0.401        0.195   \n12660            0.784       0.343                   0.552        0.047   \n12661            0.210       0.853                   0.429        0.829   \n12662            0.282       0.810                   0.724        0.074   \n12663            0.310       0.667                   0.465        0.007   \n\n       LABEL_Sepsis  LABEL_RRate  LABEL_ABPm  LABEL_SpO2  LABEL_Heartrate  \n0             0.162       18.796      82.511      96.947            84.12  \n1             0.486       18.796      82.511      96.947            84.12  \n2             0.451       18.796      82.511      96.947            84.12  \n3             0.785       18.796      82.511      96.947            84.12  \n4             0.040       18.796      82.511      96.947            84.12  \n...             ...          ...         ...         ...              ...  \n12659         0.647       18.796      82.511      96.947            84.12  \n12660         0.916       18.796      82.511      96.947            84.12  \n12661         0.093       18.796      82.511      96.947            84.12  \n12662         0.936       18.796      82.511      96.947            84.12  \n12663         0.921       18.796      82.511      96.947            84.12  \n\n[12664 rows x 16 columns]",
      "text/html": "<div>\n<style scoped>\n    .dataframe tbody tr th:only-of-type {\n        vertical-align: middle;\n    }\n\n    .dataframe tbody tr th {\n        vertical-align: top;\n    }\n\n    .dataframe thead th {\n        text-align: right;\n    }\n</style>\n<table border=\"1\" class=\"dataframe\">\n  <thead>\n    <tr style=\"text-align: right;\">\n      <th></th>\n      <th>pid</th>\n      <th>LABEL_BaseExcess</th>\n      <th>LABEL_Fibrinogen</th>\n      <th>LABEL_AST</th>\n      <th>LABEL_Alkalinephos</th>\n      <th>LABEL_Bilirubin_total</th>\n      <th>LABEL_Lactate</th>\n      <th>LABEL_TroponinI</th>\n      <th>LABEL_SaO2</th>\n      <th>LABEL_Bilirubin_direct</th>\n      <th>LABEL_EtCO2</th>\n      <th>LABEL_Sepsis</th>\n      <th>LABEL_RRate</th>\n      <th>LABEL_ABPm</th>\n      <th>LABEL_SpO2</th>\n      <th>LABEL_Heartrate</th>\n    </tr>\n  </thead>\n  <tbody>\n    <tr>\n      <th>0</th>\n      <td>0</td>\n      <td>0.940</td>\n      <td>0.341</td>\n      <td>0.597</td>\n      <td>0.651</td>\n      <td>0.557</td>\n      <td>0.745</td>\n      <td>0.224</td>\n      <td>0.363</td>\n      <td>0.506</td>\n      <td>0.643</td>\n      <td>0.162</td>\n      <td>18.796</td>\n      <td>82.511</td>\n      <td>96.947</td>\n      <td>84.12</td>\n    </tr>\n    <tr>\n      <th>1</th>\n      <td>10001</td>\n      <td>0.773</td>\n      <td>0.320</td>\n      <td>0.451</td>\n      <td>0.152</td>\n      <td>0.001</td>\n      <td>0.525</td>\n      <td>0.276</td>\n      <td>0.327</td>\n      <td>0.316</td>\n      <td>0.656</td>\n      <td>0.486</td>\n      <td>18.796</td>\n      <td>82.511</td>\n      <td>96.947</td>\n      <td>84.12</td>\n    </tr>\n    <tr>\n      <th>2</th>\n      <td>10003</td>\n      <td>0.741</td>\n      <td>0.211</td>\n      <td>0.348</td>\n      <td>0.153</td>\n      <td>0.859</td>\n      <td>0.446</td>\n      <td>0.406</td>\n      <td>0.607</td>\n      <td>0.757</td>\n      <td>0.290</td>\n      <td>0.451</td>\n      <td>18.796</td>\n      <td>82.511</td>\n      <td>96.947</td>\n      <td>84.12</td>\n    </tr>\n    <tr>\n      <th>3</th>\n      <td>10004</td>\n      <td>0.147</td>\n      <td>0.312</td>\n      <td>0.733</td>\n      <td>0.129</td>\n      <td>0.356</td>\n      <td>0.367</td>\n      <td>0.931</td>\n      <td>0.715</td>\n      <td>0.434</td>\n      <td>0.005</td>\n      <td>0.785</td>\n      <td>18.796</td>\n      <td>82.511</td>\n      <td>96.947</td>\n      <td>84.12</td>\n    </tr>\n    <tr>\n      <th>4</th>\n      <td>10005</td>\n      <td>0.255</td>\n      <td>0.746</td>\n      <td>0.587</td>\n      <td>0.743</td>\n      <td>0.248</td>\n      <td>0.330</td>\n      <td>0.071</td>\n      <td>0.291</td>\n      <td>0.399</td>\n      <td>0.217</td>\n      <td>0.040</td>\n      <td>18.796</td>\n      <td>82.511</td>\n      <td>96.947</td>\n      <td>84.12</td>\n    </tr>\n    <tr>\n      <th>...</th>\n      <td>...</td>\n      <td>...</td>\n      <td>...</td>\n      <td>...</td>\n      <td>...</td>\n      <td>...</td>\n      <td>...</td>\n      <td>...</td>\n      <td>...</td>\n      <td>...</td>\n      <td>...</td>\n      <td>...</td>\n      <td>...</td>\n      <td>...</td>\n      <td>...</td>\n      <td>...</td>\n    </tr>\n    <tr>\n      <th>12659</th>\n      <td>9989</td>\n      <td>0.943</td>\n      <td>0.541</td>\n      <td>0.373</td>\n      <td>0.944</td>\n      <td>0.562</td>\n      <td>0.594</td>\n      <td>0.838</td>\n      <td>0.938</td>\n      <td>0.401</td>\n      <td>0.195</td>\n      <td>0.647</td>\n      <td>18.796</td>\n      <td>82.511</td>\n      <td>96.947</td>\n      <td>84.12</td>\n    </tr>\n    <tr>\n      <th>12660</th>\n      <td>9991</td>\n      <td>0.561</td>\n      <td>0.040</td>\n      <td>0.095</td>\n      <td>0.667</td>\n      <td>0.918</td>\n      <td>0.323</td>\n      <td>0.784</td>\n      <td>0.343</td>\n      <td>0.552</td>\n      <td>0.047</td>\n      <td>0.916</td>\n      <td>18.796</td>\n      <td>82.511</td>\n      <td>96.947</td>\n      <td>84.12</td>\n    </tr>\n    <tr>\n      <th>12661</th>\n      <td>9992</td>\n      <td>0.112</td>\n      <td>0.962</td>\n      <td>0.967</td>\n      <td>0.564</td>\n      <td>0.064</td>\n      <td>0.545</td>\n      <td>0.210</td>\n      <td>0.853</td>\n      <td>0.429</td>\n      <td>0.829</td>\n      <td>0.093</td>\n      <td>18.796</td>\n      <td>82.511</td>\n      <td>96.947</td>\n      <td>84.12</td>\n    </tr>\n    <tr>\n      <th>12662</th>\n      <td>9994</td>\n      <td>0.892</td>\n      <td>0.540</td>\n      <td>0.868</td>\n      <td>0.201</td>\n      <td>0.259</td>\n      <td>0.632</td>\n      <td>0.282</td>\n      <td>0.810</td>\n      <td>0.724</td>\n      <td>0.074</td>\n      <td>0.936</td>\n      <td>18.796</td>\n      <td>82.511</td>\n      <td>96.947</td>\n      <td>84.12</td>\n    </tr>\n    <tr>\n      <th>12663</th>\n      <td>9997</td>\n      <td>0.344</td>\n      <td>0.203</td>\n      <td>0.176</td>\n      <td>0.683</td>\n      <td>0.603</td>\n      <td>0.053</td>\n      <td>0.310</td>\n      <td>0.667</td>\n      <td>0.465</td>\n      <td>0.007</td>\n      <td>0.921</td>\n      <td>18.796</td>\n      <td>82.511</td>\n      <td>96.947</td>\n      <td>84.12</td>\n    </tr>\n  </tbody>\n</table>\n<p>12664 rows × 16 columns</p>\n</div>"
     },
     "metadata": {},
     "execution_count": 55
    }
   ],
   "source": [
    "pred = pd.read_csv('sample.zip')\n",
    "pred"
   ]
  },
  {
   "cell_type": "code",
   "execution_count": null,
   "metadata": {},
   "outputs": [],
   "source": []
  }
 ],
 "metadata": {
  "kernelspec": {
   "name": "python37564bit7902d3b6b96f4e0481d11ecc1823e43f",
   "display_name": "Python 3.7.5 64-bit"
  }
 },
 "nbformat": 4,
 "nbformat_minor": 4
}